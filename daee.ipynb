{
 "cells": [
  {
   "cell_type": "markdown",
   "metadata": {},
   "source": [
    "# DAEE\n",
    "\n",
    "Explicar os dados"
   ]
  },
  {
   "cell_type": "markdown",
   "metadata": {},
   "source": [
    "# _Download_ dos dados"
   ]
  },
  {
   "cell_type": "markdown",
   "metadata": {},
   "source": [
    "## Estrutura de Pastas e Arquivos\n",
    "\n",
    "Primeira coisa a se fazer é criar uma estrutura de pastas que receberão arquivos a serem baixados do Portal dos Dados Abertos. Então se define aonde os arquivos serão depositados."
   ]
  },
  {
   "cell_type": "code",
   "execution_count": null,
   "metadata": {},
   "outputs": [],
   "source": [
    "dowload dos dados\n",
    "ve a data do arquivo\n",
    "tira do zip\n",
    "corrige a tabela"
   ]
  },
  {
   "cell_type": "code",
   "execution_count": 5,
   "metadata": {},
   "outputs": [
    {
     "name": "stdout",
     "output_type": "stream",
     "text": [
      "Directory \"data\" already exists...\n",
      "Directory \"data/Dados Originais\" already exists...\n",
      "Directory \"docs\" already exists...\n",
      "Directory \"maps\" already exists...\n"
     ]
    }
   ],
   "source": [
    "%run '../codes/files/create_folders.py'\n",
    "%run '../codes/files/find_filesbyextension.py'\n",
    "%run '../codes/files/predict_encoding.py'\n",
    "\n",
    "import os\n",
    "import pandas as pd\n",
    "import numpy as np\n",
    "\n",
    "create_folders('', ['data', 'data/Dados Originais', 'docs', 'maps'])\n",
    "path = os.path.join('data', 'Dados Originais')"
   ]
  },
  {
   "cell_type": "markdown",
   "metadata": {},
   "source": [
    "## _Download_ dos arquivos\n",
    "\n",
    "http://www.aplicacoes.daee.sp.gov.br/usosrec/fchweb.html\n",
    "http://www.aplicacoes.daee.sp.gov.br/usosrec/daeeusosugrhi1.asp"
   ]
  },
  {
   "cell_type": "code",
   "execution_count": 6,
   "metadata": {},
   "outputs": [],
   "source": [
    "urls=(\n",
    "    # Tabela 1 (Anual)\n",
    "    'http://sage.saude.gov.br/dados/sisagua/1controle_mensal_quantitativos_de_analises/sisagua2014.zip',)"
   ]
  },
  {
   "cell_type": "code",
   "execution_count": 7,
   "metadata": {},
   "outputs": [],
   "source": [
    "# %load '../codes/files/downloads.py'\n",
    "def download_urls(urls, path, GetFilenameFromURL=True):\n",
    "    \"\"\"\n",
    "    Function to download list of files with a progress bar.\n",
    "    :param urls: Lista ou tuple, a depender da função #\n",
    "    :param path: Local onde os arquivos serão inseridos\n",
    "    :param GetFilenameFromURL: Se VERDADEIRO, a função irá nomear o arquivo conforme o link das lista das URLs.\n",
    "    Se FALSO, a função irá nomear o arquivo conforme string definida no tuple das URLs\n",
    "    \"\"\"\n",
    "\n",
    "    # Import packages\n",
    "    import os\n",
    "    import requests\n",
    "    from tqdm.notebook import trange, tqdm\n",
    "\n",
    "    # Reset Interactions\n",
    "    i = 0\n",
    "    n_urls = len(urls)\n",
    "\n",
    "    for n_url in trange(n_urls, desc='Total'):\n",
    "        # Download path and file name\n",
    "        if GetFilenameFromURL:\n",
    "            url = urls[i]\n",
    "            filename = urls[i].rsplit('/', 1)[1]\n",
    "        else:\n",
    "            url = urls[i][0]\n",
    "            filename = urls[i][1]\n",
    "\n",
    "        # File size\n",
    "        r = requests.get(url, stream=True)\n",
    "        chunk_size = 1024 * 1024\n",
    "        total_size = int(r.headers['content-length'])\n",
    "\n",
    "        # Download the file from 'url' and save it locally under 'filename'\n",
    "        with open(os.path.join(path, filename), 'wb') as f:\n",
    "            for data in tqdm(iterable=r.iter_content(chunk_size=chunk_size),\n",
    "                             total=int(total_size / chunk_size),\n",
    "                             unit='MB',\n",
    "                             desc=str(i + 1) + '/' + str(n_urls)):\n",
    "                f.write(data)\n",
    "\n",
    "        # Interactions\n",
    "        i = i + 1\n",
    "\n",
    "        # Definir um intervalo de tempo, entre 1 e 5 segundos, entre downloads\n",
    "        import time\n",
    "        import random\n",
    "\n",
    "        not_a_robot = random.randint(1, 5)\n",
    "        time.sleep(not_a_robot)\n",
    "\n",
    "# ###########################################################################################################\n",
    "\n",
    "#urls = ('http://sage.saude.gov.br/dados/sisagua/10Pontos_de_captacao_de_agua/10PontoCaptacao.zip',\n",
    "#        'http://sage.saude.gov.br/dados/sisagua/10Pontos_de_captacao_de_agua/10PontoCaptacao.zip')\n",
    "#path = os.path.join('home/michel/Geodata/Sourcecodes/case_sisgua', 'data', 'DadosOriginais')\n",
    "\n",
    "#download_urls(urls, path)\n",
    "#%run '~/Documents/SourceCode/codes/files/downloads.py'\n"
   ]
  },
  {
   "cell_type": "code",
   "execution_count": 8,
   "metadata": {},
   "outputs": [
    {
     "data": {
      "application/vnd.jupyter.widget-view+json": {
       "model_id": "5713334e023a42baac472d806b132721",
       "version_major": 2,
       "version_minor": 0
      },
      "text/plain": [
       "HBox(children=(FloatProgress(value=0.0, description='Total', max=1.0, style=ProgressStyle(description_width='i…"
      ]
     },
     "metadata": {},
     "output_type": "display_data"
    },
    {
     "data": {
      "application/vnd.jupyter.widget-view+json": {
       "model_id": "308c757bfcf24973a740e0193c5816da",
       "version_major": 2,
       "version_minor": 0
      },
      "text/plain": [
       "HBox(children=(FloatProgress(value=0.0, description='1/1', max=76.0, style=ProgressStyle(description_width='in…"
      ]
     },
     "metadata": {},
     "output_type": "display_data"
    },
    {
     "name": "stdout",
     "output_type": "stream",
     "text": [
      "\n",
      "\n"
     ]
    }
   ],
   "source": [
    "download_urls(urls, path)"
   ]
  },
  {
   "cell_type": "code",
   "execution_count": null,
   "metadata": {},
   "outputs": [],
   "source": []
  }
 ],
 "metadata": {
  "kernelspec": {
   "display_name": "Python 3",
   "language": "python",
   "name": "python3"
  },
  "language_info": {
   "codemirror_mode": {
    "name": "ipython",
    "version": 3
   },
   "file_extension": ".py",
   "mimetype": "text/x-python",
   "name": "python",
   "nbconvert_exporter": "python",
   "pygments_lexer": "ipython3",
   "version": "3.6.7"
  },
  "toc": {
   "base_numbering": 1,
   "nav_menu": {},
   "number_sections": true,
   "sideBar": true,
   "skip_h1_title": false,
   "title_cell": "Table of Contents",
   "title_sidebar": "Contents",
   "toc_cell": false,
   "toc_position": {},
   "toc_section_display": true,
   "toc_window_display": false
  }
 },
 "nbformat": 4,
 "nbformat_minor": 4
}
