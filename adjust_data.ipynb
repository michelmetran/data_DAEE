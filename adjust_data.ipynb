{
 "cells": [
  {
   "cell_type": "markdown",
   "id": "ccf84d3c-bfe2-4fd0-9e5c-708ab0e18341",
   "metadata": {},
   "source": [
    "<br>\n",
    "\n",
    "# DAEE"
   ]
  },
  {
   "cell_type": "code",
   "execution_count": null,
   "id": "faac53b3-f969-4d4c-b08e-85c8e92e606a",
   "metadata": {},
   "outputs": [],
   "source": [
    "import os\n",
    "import time\n",
    "import requests\n",
    "import numpy as np\n",
    "import pandas as pd\n",
    "from bs4 import BeautifulSoup\n",
    "from datetime import datetime"
   ]
  },
  {
   "cell_type": "code",
   "execution_count": null,
   "id": "463268df-c8e9-41b7-a669-f1fea57a9ba4",
   "metadata": {},
   "outputs": [],
   "source": [
    "def predict_encoding(file_path, n_lines=30):\n",
    "    \"\"\"\n",
    "    Predict Encoding determines the encoding of a given file, so that when reading the file (via 'Pandas', for example)\n",
    "    characters, accents and symbols are spelled correctly.\n",
    "    :param file_path: Name and path to file\n",
    "    :param n_lines: Number of lines to read to set encoding. Parameter Optional. Default: 30 lines.\n",
    "    :return: Encoding.\n",
    "    \"\"\"\n",
    "    import chardet\n",
    "\n",
    "    # Open the file as binary data\n",
    "    with open(file_path, 'rb') as f:\n",
    "        # Join binary lines for specified number of lines\n",
    "        raw_data = b''.join([f.readline() for line in range(n_lines)])\n",
    "\n",
    "    return chardet.detect(raw_data)['encoding']"
   ]
  },
  {
   "cell_type": "markdown",
   "id": "e28ee1e5-ebb9-45a8-9974-40fa27978715",
   "metadata": {},
   "source": [
    "<br>\n",
    "\n",
    "# Read Data"
   ]
  },
  {
   "cell_type": "code",
   "execution_count": null,
   "id": "8b175b58-62ff-4a6e-922b-5a02d94975a9",
   "metadata": {},
   "outputs": [],
   "source": [
    "my_file = os.path.join('data', 'brutos', 'daee_arq8.txt')\n",
    "\n",
    "enc = predict_encoding(my_file, n_lines=300)\n",
    "enc"
   ]
  },
  {
   "cell_type": "code",
   "execution_count": null,
   "id": "9a841ab7-41e1-403a-a1a4-38d8458a44f4",
   "metadata": {},
   "outputs": [],
   "source": [
    "df = pd.read_csv(\n",
    "    os.path.join('data', 'brutos', 'daee_arq8.txt'),\n",
    "    sep=';',\n",
    "    skiprows=1,\n",
    "    #encoding=enc,\n",
    "    dtype={\n",
    "        # Identificação\n",
    "        #'QTD': 'quantidade',\n",
    "        #'COD BACIA': 'cod_bacia',\n",
    "        'NOME RIO/AQUIFERO': 'object',\n",
    "        'COD RIO/POCO(DAEE)': 'object',    \n",
    "        'DIST_FOZ(Km)': 'object',\n",
    "\n",
    "        # Administrativo\n",
    "        #'USUARIO': 'usuario',    \n",
    "        #'AUTOS(DAEE)': 'autos_daee',\n",
    "        #'USO': 'uso',\n",
    "        #'SEQ': 'seq',\n",
    "        #'FINALID_USO': 'finalidade_uso',\n",
    "        #'SITUAC_ADMIN(DAEE)': 'situacao_administrativa',\n",
    "\n",
    "        # Vazão\n",
    "        #'VAZAO(M3/H)': 'vazao_m3h',\n",
    "        #'HORA/DIA': 'hora_dia',\n",
    "        #'DIA/MES': 'dia_mes',\n",
    "        #'MES/ANO': 'mes_ano',\n",
    "\n",
    "        # Coordenada\n",
    "        'UTM_NORTE(Km)': 'object',\n",
    "        'UTM_LESTE(Km)': 'object',\n",
    "        'UTM_MC': 'object',\n",
    "    }\n",
    ")\n",
    "\n",
    "df.dtypes"
   ]
  },
  {
   "cell_type": "markdown",
   "id": "3880bff4-a1d6-42be-a01c-c30bd048dc41",
   "metadata": {},
   "source": [
    "<br>\n",
    "\n",
    "## Rename Columns"
   ]
  },
  {
   "cell_type": "code",
   "execution_count": null,
   "id": "5c86c5ca-c6c4-4e9e-8021-89ae9c55ed01",
   "metadata": {},
   "outputs": [],
   "source": [
    "# Colunas Originiais\n",
    "#display(list(df.columns))\n",
    "\n",
    "# Renomear Colunas\n",
    "dict_columns = {\n",
    "    # Identificação\n",
    "    'QTD': 'quantidade',\n",
    "    'COD BACIA': 'cod_bacia',\n",
    "    'NOME RIO/AQUIFERO': 'nome_rio_aquifero',\n",
    "    'COD RIO/POCO(DAEE)': 'cod_rio_poco',    \n",
    "    'DIST_FOZ(Km)': 'dist_foz_km',\n",
    "    \n",
    "    # Administrativo\n",
    "    'USUARIO': 'usuario',\n",
    "    'AUTOS(DAEE)': 'autos_daee',\n",
    "    'USO': 'uso',\n",
    "    'SEQ': 'seq',\n",
    "    'FINALID_USO': 'finalidade_uso',\n",
    "    'SITUAC_ADMIN(DAEE)': 'situacao_administrativa',\n",
    "    \n",
    "    # Vazão\n",
    "    'VAZAO(M3/H)': 'vazao_m3h',\n",
    "    'HORA/DIA': 'hora_dia',\n",
    "    'DIA/MES': 'dia_mes',\n",
    "    'MES/ANO': 'mes_ano',\n",
    "    \n",
    "    # Coordenada\n",
    "    'UTM_NORTE(Km)': 'utm_norte_km',\n",
    "    'UTM_LESTE(Km)': 'utm_leste_km',\n",
    "    'UTM_MC': 'utm_mc',\n",
    "}\n",
    "\n",
    "# Rename Columns\n",
    "df.rename(columns=dict_columns, inplace=True, errors='ignore')\n",
    "df"
   ]
  },
  {
   "cell_type": "markdown",
   "id": "f0f41255-0e61-494d-8a46-62e6d48f7c91",
   "metadata": {},
   "source": [
    "<br>\n",
    "\n",
    "## Fix Columns"
   ]
  },
  {
   "cell_type": "code",
   "execution_count": null,
   "id": "590761ff-cf35-46a9-beb7-2793089980f3",
   "metadata": {},
   "outputs": [],
   "source": [
    "# Drop Columns\n",
    "df.drop('quantidade', axis=1, inplace=True, errors='ignore')\n",
    "\n",
    "# Distância da Foz\n",
    "df['dist_foz_km'] = df['dist_foz_km'].str.replace(',', '').astype(float)\n",
    "df['dist_foz_km'] = pd.to_numeric(df['dist_foz_km'])\n",
    "\n",
    "# Vazão\n",
    "df['vazao_m3h'] = df['vazao_m3h'].str.replace(',', '').astype(float)\n",
    "df['vazao_m3h'] = pd.to_numeric(df['vazao_m3h'])\n",
    "\n",
    "# UTM Norte\n",
    "df['utm_norte_km'] = df['utm_norte_km'].str.replace(',', '').astype(float)\n",
    "df['utm_norte_km'] = pd.to_numeric(df['utm_norte_km'])\n",
    "df['utm_norte'] = df['utm_norte_km'] * 1000\n",
    "df['utm_norte'] = df['utm_norte'].astype(int)\n",
    "\n",
    "# UTM Leste\n",
    "df['utm_leste_km'] = df['utm_leste_km'].str.replace(',', '').astype(float)\n",
    "df['utm_leste_km'] = pd.to_numeric(df['utm_leste_km'])\n",
    "df['utm_leste'] = df['utm_leste_km'] * 1000\n",
    "df['utm_leste'] = df['utm_leste'].astype(int)\n",
    "\n",
    "# UTM MC\n",
    "df['utm_mc'] = df['utm_mc'].str.replace(',', '').astype(float)\n",
    "df['utm_mc'] = pd.to_numeric(df['utm_mc'])\n",
    "df['utm_mc'] = df['utm_mc'].astype(int)\n",
    "\n",
    "# Results\n",
    "df"
   ]
  },
  {
   "cell_type": "code",
   "execution_count": null,
   "id": "90f2690b-2321-4bf4-b012-448b770f7ad1",
   "metadata": {},
   "outputs": [],
   "source": [
    "list_columns = [\n",
    "    'cod_bacia',\n",
    "    #'nome_rio_aquifero',\n",
    "    #'cod_rio_poco',\n",
    "    #'dist_foz_km',\n",
    "    #'usuario',\n",
    "    #'autos_daee',\n",
    "    #'uso',\n",
    "    #'seq',\n",
    "    #'finalidade_uso',\n",
    "    #'situacao_administrativa',\n",
    "    #'vazao_m3h',\n",
    "    #'hora_dia',\n",
    "    #'dia_mes',\n",
    "    #'mes_ano',\n",
    "    #'utm_norte_km',\n",
    "    #'utm_leste_km',\n",
    "    #'utm_mc',\n",
    "    #'utm_norte',\n",
    "    #'utm_leste'\n",
    "]\n",
    "\n",
    "for col in list_columns:\n",
    "    try:\n",
    "        df[col] = df[col].str.strip()\n",
    "    except:\n",
    "        pass\n",
    "    print('>>> {}'.format(col))\n",
    "    #display(set(df[col]))"
   ]
  },
  {
   "cell_type": "markdown",
   "id": "7d903b5f-f19e-4f04-8539-28f6f35a2171",
   "metadata": {},
   "source": [
    "<br>\n",
    "\n",
    "# Erros"
   ]
  },
  {
   "cell_type": "code",
   "execution_count": null,
   "id": "711d24fd-7acd-4443-aae5-b257071cab44",
   "metadata": {},
   "outputs": [],
   "source": [
    "# Erro: Horas por Dia maior que 24\n",
    "mask = df['hora_dia'] <= 24\n",
    "mask =~ mask\n",
    "df.loc[mask, 'erro_data'] = 'Erro na hora/dia/mês/ano'\n",
    "\n",
    "# Erro: Dias por mês maior que 31\n",
    "mask = df['dia_mes']  <= 31\n",
    "mask =~ mask\n",
    "df.loc[mask, 'erro_data'] = 'Erro na hora/dia/mês/ano'\n",
    "\n",
    "# Erro: Mês por Ano 12\n",
    "mask = df['mes_ano']  <= 12\n",
    "mask =~ mask\n",
    "df.loc[mask, 'erro_data'] = 'Erro na hora/dia/mês/ano'\n",
    "\n",
    "# Erro: Coordenadas sem definição\n",
    "mask = df['utm_leste_km'] == 0\n",
    "df.loc[mask, 'erro_coordenada'] = 'Erro na coordenada'\n",
    "\n",
    "# Erro: Coordenadas sem definição\n",
    "mask = df['utm_norte_km'] == 0\n",
    "df.loc[mask, 'erro_coordenada'] = 'Erro na coordenada'\n",
    "\n",
    "# Erro: Coordenadas sem definição de Meridicano Central\n",
    "mask = df['utm_mc'] == 0\n",
    "df.loc[mask, 'erro_coordenada'] = 'Erro na coordenada'\n",
    "\n",
    "# Results\n",
    "df"
   ]
  },
  {
   "cell_type": "markdown",
   "id": "fa6f32e0-e6ab-4e0f-ad2d-0e8a4bca848d",
   "metadata": {},
   "source": [
    "<br>\n",
    "\n",
    "# Export"
   ]
  },
  {
   "cell_type": "code",
   "execution_count": null,
   "id": "1d624eb1-54ac-48d9-bdd6-3b1ceca5f7fd",
   "metadata": {},
   "outputs": [],
   "source": [
    "df.to_csv(\n",
    "    os.path.join('data', 'tab_daee.csv'),\n",
    "    index=False,\n",
    ")"
   ]
  },
  {
   "cell_type": "code",
   "execution_count": null,
   "id": "e77ffebf-1b2c-4399-a4c9-aa8364acd696",
   "metadata": {},
   "outputs": [],
   "source": [
    "# Exclui Problemas\n",
    "df = df[df['erro_data'].isna()]\n",
    "df = df[df['erro_coordenada'].isna()]\n",
    "\n",
    "# Export Clean\n",
    "df.to_csv(\n",
    "    os.path.join('data', 'tab_daee_clean.csv'),\n",
    "    index=False,\n",
    ")"
   ]
  },
  {
   "cell_type": "code",
   "execution_count": null,
   "id": "ae58a5fb-6e9a-40a2-be96-4c51bd8da54c",
   "metadata": {},
   "outputs": [],
   "source": [
    "# Seleciona Amostra Aleatória\n",
    "df = df.sample(n=1000)\n",
    "\n",
    "# Export Clean\n",
    "df.to_csv(\n",
    "    os.path.join('data', 'tab_daee_exemplo.csv'),\n",
    "    index=False,\n",
    ")"
   ]
  }
 ],
 "metadata": {
  "kernelspec": {
   "display_name": "Python [conda env:pablocarreira-py38] *",
   "language": "python",
   "name": "conda-env-pablocarreira-py38-py"
  },
  "language_info": {
   "codemirror_mode": {
    "name": "ipython",
    "version": 3
   },
   "file_extension": ".py",
   "mimetype": "text/x-python",
   "name": "python",
   "nbconvert_exporter": "python",
   "pygments_lexer": "ipython3",
   "version": "3.8.10"
  }
 },
 "nbformat": 4,
 "nbformat_minor": 5
}
