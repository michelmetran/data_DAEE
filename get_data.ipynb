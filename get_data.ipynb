{
 "cells": [
  {
   "cell_type": "markdown",
   "metadata": {},
   "source": [
    "<br>\n",
    "\n",
    "# DAEE"
   ]
  },
  {
   "cell_type": "code",
   "execution_count": null,
   "metadata": {},
   "outputs": [],
   "source": [
    "import os\n",
    "import time\n",
    "import requests\n",
    "import numpy as np\n",
    "import pandas as pd\n",
    "from bs4 import BeautifulSoup\n",
    "from datetime import datetime"
   ]
  },
  {
   "cell_type": "code",
   "execution_count": null,
   "metadata": {},
   "outputs": [],
   "source": [
    "from selenium import webdriver\n",
    "from selenium.webdriver.firefox.options import Options\n",
    "from selenium.webdriver.support.ui import WebDriverWait\n",
    "from selenium.webdriver.common.by import By\n",
    "from selenium.webdriver.common.keys import Keys\n",
    "from selenium.webdriver.support.ui import Select\n",
    "from selenium.webdriver.common.action_chains import ActionChains\n",
    "from selenium.webdriver.support import expected_conditions as EC"
   ]
  },
  {
   "cell_type": "markdown",
   "metadata": {},
   "source": [
    "<br>\n",
    "\n",
    "# *Download* dos dados"
   ]
  },
  {
   "cell_type": "code",
   "execution_count": null,
   "metadata": {},
   "outputs": [],
   "source": [
    "def create_driver(download_dir):\n",
    "    global driver\n",
    "    \n",
    "    # Create directory\n",
    "    os.makedirs(download_dir, exist_ok=True)\n",
    "    \n",
    "    r = requests.get('https://addons.mozilla.org/firefox/downloads/file/3588871/xpath_finder-1.0.2-fx.xpi')\n",
    "    os.makedirs('adds', exist_ok=True)\n",
    "    with open(os.path.join('adds', 'xpath.xpi'), 'wb') as f:\n",
    "        f.write(r.content)\n",
    "\n",
    "    r = requests.get('https://addons.mozilla.org/firefox/downloads/file/3659047/buster_captcha_solver_for_humans-1.1.0-an+fx.xpi')\n",
    "    os.makedirs('adds', exist_ok=True)\n",
    "    with open(os.path.join('adds', 'buster_captcha.xpi'), 'wb') as f:\n",
    "        f.write(r.content)    \n",
    "    \n",
    "    # Driver Firefox com Profile\n",
    "    profile = webdriver.FirefoxProfile()\n",
    "    profile.set_preference('intl.accept_languages', 'pt-BR, pt')\n",
    "    profile.set_preference('browser.download.folderList', 2)\n",
    "    profile.set_preference('browser.download.dir', download_dir)\n",
    "    profile.set_preference('browser.download.manager.showWhenStarting', False)\n",
    "    profile.set_preference('browser.helperApps.neverAsk.saveToDisk','application/zip,application/vnd.google-earth.kml+xml,application/rar,application/pdf,application/vnd.ms-excel,application/octet-stream,application/msword,text/xml,text/kml,application/pdf,application/vnd.adobe.xfdf,application/vnd.fdf,application/vnd.adobe.xdp+xml,image/x-png,image/png,image/jpeg,text/plain,text/html,application/x-msdownload')\n",
    "    profile.set_preference('browser.helperApps.alwaysAsk.force', False)\n",
    "    profile.set_preference('browser.aboutConfig.showWarning', False)\n",
    "    profile.set_preference('pdfjs.disabled', True)\n",
    "    profile.set_preference('print.print_headerright', '')\n",
    "    profile.set_preference('print.print_headercenter', '')\n",
    "    profile.set_preference('print.print_headerleft', '')\n",
    "    profile.set_preference('print.print_footerright', '')    \n",
    "    profile.set_preference('print.print_footercenter', '')\n",
    "    profile.set_preference('print.print_footerleft', '')\n",
    "    profile.update_preferences()\n",
    "\n",
    "    # Driver Firefox com Options\n",
    "    options = Options()\n",
    "    options.headless = False\n",
    "\n",
    "    # Driver\n",
    "    driver = webdriver.Firefox(firefox_profile=profile, options=options)\n",
    "    driver.install_addon(os.path.abspath(os.path.join('adds', 'buster_captcha.xpi')), temporary=True)\n",
    "    driver.install_addon(os.path.abspath(os.path.join('adds', 'xpath.xpi')), temporary=True)\n",
    "    return driver"
   ]
  },
  {
   "cell_type": "code",
   "execution_count": null,
   "metadata": {},
   "outputs": [],
   "source": [
    "download_dir = os.path.join(os.getcwd(), 'data', 'brutos')\n",
    "driver = create_driver(download_dir)"
   ]
  },
  {
   "cell_type": "code",
   "execution_count": null,
   "metadata": {},
   "outputs": [],
   "source": [
    "# Vai pra site \"Aplicações\"\n",
    "url = 'http://www.aplicacoes.daee.sp.gov.br/usosrec/fchweb.html'\n",
    "driver.get(url)"
   ]
  },
  {
   "cell_type": "code",
   "execution_count": null,
   "metadata": {},
   "outputs": [],
   "source": [
    "# Vai pra subsite \"Baixar Usos p/Bacia Hidrográfica\"\n",
    "url = 'http://www.aplicacoes.daee.sp.gov.br/usosrec/Daeewebbacia1.asp'\n",
    "driver.get(url)"
   ]
  },
  {
   "cell_type": "code",
   "execution_count": null,
   "metadata": {},
   "outputs": [],
   "source": [
    "# Seleciona Bacia\n",
    "ugrhi = Select(driver.find_element_by_xpath(\"//*[@name='bacia1']\"))\n",
    "ugrhi.select_by_visible_text('99 - TODAS AS BACIAS HIDROGRAFICAS DO ESTADO DE SAO PAULO')"
   ]
  },
  {
   "cell_type": "code",
   "execution_count": null,
   "metadata": {},
   "outputs": [],
   "source": [
    "# Clica em Aplicar\n",
    "driver.find_element_by_xpath(\"//*[@value='SELECIONAR']\").click()"
   ]
  },
  {
   "cell_type": "code",
   "execution_count": null,
   "metadata": {},
   "outputs": [],
   "source": [
    "# Fecha janela inicial\n",
    "driver.switch_to.window(driver.window_handles[0])\n",
    "driver.close()"
   ]
  },
  {
   "cell_type": "code",
   "execution_count": null,
   "metadata": {},
   "outputs": [],
   "source": [
    "# Muda para janela principal\n",
    "driver.switch_to.window(driver.window_handles[0])"
   ]
  },
  {
   "cell_type": "code",
   "execution_count": null,
   "metadata": {},
   "outputs": [],
   "source": [
    "# Espera algum componente aparecer"
   ]
  },
  {
   "cell_type": "code",
   "execution_count": null,
   "metadata": {},
   "outputs": [],
   "source": [
    "# Scrool Down\n",
    "driver.execute_script('window.scrollTo(0, document.body.scrollHeight);')"
   ]
  },
  {
   "cell_type": "code",
   "execution_count": null,
   "metadata": {},
   "outputs": [],
   "source": [
    "# Clicar para Donwload\n",
    "driver.find_element_by_xpath('//*[contains(@class,\"caixa1\")]').click()"
   ]
  },
  {
   "cell_type": "code",
   "execution_count": null,
   "metadata": {},
   "outputs": [],
   "source": [
    "# Espera download terminar"
   ]
  },
  {
   "cell_type": "code",
   "execution_count": null,
   "metadata": {},
   "outputs": [],
   "source": [
    "driver.quit()"
   ]
  },
  {
   "cell_type": "code",
   "execution_count": null,
   "metadata": {},
   "outputs": [],
   "source": []
  }
 ],
 "metadata": {
  "kernelspec": {
   "display_name": "Python 3",
   "language": "python",
   "name": "python3"
  },
  "language_info": {
   "codemirror_mode": {
    "name": "ipython",
    "version": 3
   },
   "file_extension": ".py",
   "mimetype": "text/x-python",
   "name": "python",
   "nbconvert_exporter": "python",
   "pygments_lexer": "ipython3",
   "version": "3.8.10"
  },
  "toc": {
   "base_numbering": 1,
   "nav_menu": {},
   "number_sections": true,
   "sideBar": true,
   "skip_h1_title": false,
   "title_cell": "Table of Contents",
   "title_sidebar": "Contents",
   "toc_cell": false,
   "toc_position": {},
   "toc_section_display": true,
   "toc_window_display": false
  }
 },
 "nbformat": 4,
 "nbformat_minor": 4
}
